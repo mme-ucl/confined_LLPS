{
 "cells": [
  {
   "cell_type": "code",
   "execution_count": 1,
   "id": "a22b671a-1706-4259-95b1-1890fd9f6674",
   "metadata": {
    "scrolled": true
   },
   "outputs": [
    {
     "name": "stderr",
     "output_type": "stream",
     "text": [
      "/home/lunna/anaconda3/lib/python3.9/site-packages/pandas/core/computation/expressions.py:21: UserWarning: Pandas requires version '2.8.4' or newer of 'numexpr' (version '2.7.3' currently installed).\n",
      "  from pandas.core.computation.check import NUMEXPR_INSTALLED\n",
      "/home/lunna/anaconda3/lib/python3.9/site-packages/pandas/core/arrays/masked.py:60: UserWarning: Pandas requires version '1.3.6' or newer of 'bottleneck' (version '1.3.2' currently installed).\n",
      "  from pandas.core import (\n"
     ]
    }
   ],
   "source": [
    "# Fix LaTeX path before importing matplotlib\n",
    "import os\n",
    "os.environ[\"PATH\"] += os.pathsep + \"/Library/TeX/texbin\"\n",
    "\n",
    "#Lunna's\n",
    "from scipy import stats\n",
    "import numpy as np\n",
    "import scipy.io\n",
    "%matplotlib inline\n",
    "import matplotlib.pyplot as plt\n",
    "from matplotlib import cm\n",
    "from math import ceil\n",
    "from scipy.optimize import fsolve\n",
    "from scipy.optimize import leastsq\n",
    "from scipy.signal import find_peaks\n",
    "from scipy.integrate import solve_ivp\n",
    "from matplotlib.patches import Rectangle\n",
    "from mpl_toolkits.axes_grid1.inset_locator import (inset_axes, InsetPosition,\n",
    "                                                  mark_inset)\n",
    "import scipy as sp\n",
    "import pandas as pd\n",
    "import warnings\n",
    "warnings.filterwarnings('ignore')\n",
    "\n",
    "from matplotlib.ticker import (MultipleLocator,\n",
    "                               FormatStrFormatter,\n",
    "                               AutoMinorLocator)\n",
    "\n",
    "plt.rcParams.update({\n",
    "    \"text.usetex\": True,\n",
    "    \"font.family\": \"serif\",\n",
    "    \"font.serif\": [\"computer modern roman\"],\n",
    "    \"font.size\": 20})\n",
    "\n",
    "plw = 1.0 #0.6\n",
    "pcs = 3\n",
    "pms = 3\n",
    "bfillc = [0.9,0.9,0.9]\n",
    "plt.rcParams['axes.linewidth'] = plw\n",
    "plt.rcParams['xtick.top'] = True\n",
    "plt.rcParams['xtick.direction'] = 'in'\n",
    "plt.rcParams['xtick.major.width'] = plw\n",
    "plt.rcParams['xtick.minor.width'] = plw\n",
    "plt.rcParams['xtick.minor.visible'] = True\n",
    "plt.rcParams['xtick.major.size'] = 4.5\n",
    "plt.rcParams['ytick.right'] = True\n",
    "plt.rcParams['ytick.direction'] = 'in'\n",
    "plt.rcParams['ytick.major.width'] = plw\n",
    "plt.rcParams['ytick.minor.width'] = plw\n",
    "plt.rcParams['ytick.minor.visible'] = True\n",
    "plt.rcParams['ytick.major.size'] = 5\n",
    "plt.rcParams[\"figure.figsize\"] = (5,4)\n",
    "\n",
    "def mscatter(x,y,ax=None, m=None, **kw):\n",
    "    import matplotlib.markers as mmarkers\n",
    "    if not ax: ax=plt.gca()\n",
    "    sc = ax.scatter(x,y,**kw)\n",
    "    if (m is not None) and (len(m)==len(x)):\n",
    "        paths = []\n",
    "        for marker in m:\n",
    "            if isinstance(marker, mmarkers.MarkerStyle):\n",
    "                marker_obj = marker\n",
    "            else:\n",
    "                marker_obj = mmarkers.MarkerStyle(marker)\n",
    "            path = marker_obj.get_path().transformed(\n",
    "                        marker_obj.get_transform())\n",
    "            paths.append(path)\n",
    "        sc.set_paths(paths)\n",
    "    return sc\n",
    "import math"
   ]
  },
  {
   "cell_type": "code",
   "execution_count": null,
   "id": "569dee02",
   "metadata": {},
   "outputs": [],
   "source": []
  },
  {
   "cell_type": "code",
   "execution_count": 18,
   "id": "43dabcfa",
   "metadata": {
    "scrolled": true
   },
   "outputs": [],
   "source": [
    "from IPython.display import Image\n",
    "#Image(filename='AC.png',width = 1000, height =800) "
   ]
  },
  {
   "cell_type": "code",
   "execution_count": null,
   "id": "0f53aa9e",
   "metadata": {},
   "outputs": [],
   "source": []
  },
  {
   "cell_type": "markdown",
   "id": "e0dc4eab",
   "metadata": {},
   "source": [
    "<span style=\"color: blue;\"> <font size=\"5\"> $d\\Delta F_{corr}/dn$ = \n",
    "<span style=\"color: red;\"> <font size=\"5\">  $-kT\\ln(\\gamma/\\gamma^*$)\n",
    "<span style=\"color: green;\"> <font size=\"5\"> $-nkT\\frac{d\\ln(\\gamma/\\gamma^*)}{dn}$\n",
    "<span style=\"color: black;\"> <font size=\"5\">  $+NkT\\frac{d\\ln(\\gamma/\\gamma_0)}{dn}$"
   ]
  },
  {
   "cell_type": "markdown",
   "id": "5a9fdcd3",
   "metadata": {},
   "source": [
    "<span style=\"color: red;\"> <font size=\"5\"> $\\ln(\\gamma/\\gamma^*)=\\ln(10)\\bigg(\\log_{10} \\gamma -\\log_{10} \\gamma^*\\bigg)$"
   ]
  },
  {
   "cell_type": "markdown",
   "id": "a3977795",
   "metadata": {},
   "source": [
    "<span style=\"color: red;\"> <font size=\"5\"> $\\log_{10} \\gamma = \\frac{-A\\sqrt{b_\\mathrm{NaCl}}}{1+B\\sqrt{b_\\mathrm{NaCl}}}+Cb_\\mathrm{NaCl}$ \n",
    "    \n",
    "<span style=\"color: red;\"> <font size=\"5\"> $\\log_{10} \\gamma^* = \\frac{-A\\sqrt{b^*_\\mathrm{NaCl}}}{1+B\\sqrt{b^*_\\mathrm{NaCl}}}+Cb^*_\\mathrm{NaCl}$     \n",
    "    \n",
    "<span style=\"color: black;\"> <font size=\"4\"> $b_\\mathrm{NaCl}=m$ is the molarity of NaCl, relate molarity to number that can be sampled from $NVT$ simulations, \n",
    "    \n",
    "    \n",
    "<span style=\"color: red;\"> <font size=\"5\"> $b_\\mathrm{NaCl} = m = \\frac{N-n}{0.036N_s}$ (from Aaron)\n",
    "\n",
    "<span style=\"color: black;\"> <font size=\"4\"> Next, relation between $b^*_\\mathrm{NaCl}$ and $x^*$, or more generally, between any pairs of $b_\\mathrm{NaCl}$ and $x$, but not in the context of $NVT$ simulation, where $N$, $n$ and $N_s$ can be counted. \n",
    "    \n",
    "<span style=\"color: black;\"> <font size=\"4\"> I used reference $x^*$ = 0.0625 and $b^*_\\mathrm{NaCl}$=3.7 mol kg$^{-1}$ throughout, so the conversion between my mole fraction and molality I was also using the factor of 0.0625/3.7. Is this the correct way though?  \n",
    "    \n",
    "<span style=\"color: black;\"> <font size=\"4\"> I think I need to correct for SI_6.png, since I was only using this factor here, which is only approximate, \n",
    "    \n",
    "    "
   ]
  },
  {
   "cell_type": "code",
   "execution_count": null,
   "id": "d004087d",
   "metadata": {},
   "outputs": [],
   "source": []
  },
  {
   "cell_type": "code",
   "execution_count": null,
   "id": "7c089eee",
   "metadata": {},
   "outputs": [],
   "source": []
  },
  {
   "cell_type": "code",
   "execution_count": null,
   "id": "289e9db4",
   "metadata": {},
   "outputs": [],
   "source": []
  },
  {
   "cell_type": "markdown",
   "id": "65f22678",
   "metadata": {},
   "source": [
    "<span style=\"color: red;\"> <font size=\"5\"> In general, $x_{ion} = x = \\frac{2m}{2m+55.5}$ with $m=b_\\mathrm{NaCl}$\n",
    "    \n",
    "    \n",
    "<span style=\"color: red;\"> <font size=\"5\"> In general, $x_\\mathrm{NaCl} = \\frac{m}{m+55.5}$ with $m=b_\\mathrm{NaCl}$\n",
    "    \n",
    "<span style=\"color: black;\"> <font size=\"4\"> 55.5 mol of water in 1 kg of water\n",
    " \n",
    "<span style=\"color: red;\"> <font size=\"5\"> $b_\\mathrm{NaCl} = m = \\frac{55.5x}{2(1-x)}$ \n",
    "  \n",
    "<span style=\"color: black;\"> <font size=\"4\"> so to relate to $x^*$\n",
    "    \n",
    "<span style=\"color: red;\"> <font size=\"5\"> $b^*_\\mathrm{NaCl} = m = \\frac{55.5x^*}{2(1-x^*)}$\n",
    "    \n",
    "<span style=\"color: red;\"> <font size=\"5\"> $b_\\mathrm{NaCl} = m =\\frac{55.5x_\\mathrm{NaCl}}{1-x_\\mathrm{NaCl}}$\n",
    "    \n",
    "<span style=\"color: red;\"> <font size=\"5\"> $x = \\frac{2x_\\mathrm{NaCl}}{1+x_\\mathrm{NaCl}}$ OR \n",
    "    \n",
    "<span style=\"color: red;\"> <font size=\"5\">  $x_\\mathrm{NaCl}=\\frac{x}{2-x}$\n"
   ]
  },
  {
   "cell_type": "code",
   "execution_count": null,
   "id": "9ed15928",
   "metadata": {},
   "outputs": [],
   "source": []
  },
  {
   "cell_type": "code",
   "execution_count": 9,
   "id": "840c60be",
   "metadata": {},
   "outputs": [
    {
     "data": {
      "text/plain": [
       "3.7"
      ]
     },
     "execution_count": 9,
     "metadata": {},
     "output_type": "execute_result"
    }
   ],
   "source": [
    "55.5*0.0625/(1-0.0625)"
   ]
  },
  {
   "cell_type": "code",
   "execution_count": null,
   "id": "b25407ca",
   "metadata": {},
   "outputs": [],
   "source": []
  },
  {
   "cell_type": "markdown",
   "id": "5b2a2a4b",
   "metadata": {},
   "source": [
    "<span style=\"color: black;\"> <font size=\"5\"> Relate to quantity in simulations\n",
    "\n",
    "<span style=\"color: red;\"> <font size=\"5\">  $x=\\frac{N-n}{N+N_s-n}$ \n",
    "    \n",
    "<span style=\"color: red;\"> <font size=\"5\">  $1-x=1-\\frac{N-n}{N+N_s-n}=\\frac{(N+N_s-n)-(N-n)}{N+N_s-n} = \\frac{N_s}{N+N_s-n}$\n",
    "    \n",
    "<span style=\"color: red;\"> <font size=\"5\"> $\\frac{x}{1-x} = \\frac{N-n}{N_s}$"
   ]
  },
  {
   "cell_type": "code",
   "execution_count": 15,
   "id": "fd739dfe",
   "metadata": {},
   "outputs": [
    {
     "name": "stdout",
     "output_type": "stream",
     "text": [
      "27.77777777777778\n",
      "27.75\n"
     ]
    }
   ],
   "source": [
    "print(1/0.036)\n",
    "print(55.5/2)"
   ]
  },
  {
   "cell_type": "markdown",
   "id": "7f713451",
   "metadata": {},
   "source": [
    "<span style=\"color: red;\"> <font size=\"5\"> $b_\\mathrm{NaCl} = m = \\frac{55.5x}{2(1-x)} = \\frac{55.5}{2} \\frac{N-n}{N_s} = \\frac{1}{0.036} \\frac{N-n}{N_s} $ (the same as Aaron) "
   ]
  },
  {
   "cell_type": "code",
   "execution_count": 16,
   "id": "9dde2490",
   "metadata": {},
   "outputs": [
    {
     "data": {
      "text/plain": [
       "0.036036036036036036"
      ]
     },
     "execution_count": 16,
     "metadata": {},
     "output_type": "execute_result"
    }
   ],
   "source": [
    "2/55.5"
   ]
  },
  {
   "cell_type": "code",
   "execution_count": null,
   "id": "bad54aa6",
   "metadata": {},
   "outputs": [],
   "source": []
  },
  {
   "cell_type": "code",
   "execution_count": null,
   "id": "89d0ec85",
   "metadata": {},
   "outputs": [],
   "source": []
  },
  {
   "cell_type": "markdown",
   "id": "e9986212",
   "metadata": {},
   "source": [
    "<span style=\"color: black;\"> <font size=\"5\"> The following will be used for fitting, $x^*$ is the to be determined equilibrium mole fraction "
   ]
  },
  {
   "cell_type": "markdown",
   "id": "ec277fd7",
   "metadata": {},
   "source": [
    "<span style=\"color: red;\"> <font size=\"5\"> $\\log_{10} \\gamma = \\frac{-A\\sqrt{\\frac{N-n}{0.036N_s}}}{1+B\\sqrt{\\frac{N-n}{0.036N_s}}}+C\\frac{N-n}{0.036N_s}$ (the same as Aaron)"
   ]
  },
  {
   "cell_type": "markdown",
   "id": "48cd7a0d",
   "metadata": {},
   "source": [
    "<span style=\"color: red;\"> <font size=\"5\"> $\\log_{10} \\gamma^* = \\frac{-A\\sqrt{\\frac{55.5x^*}{2(1-x^*)}}}{1+B\\sqrt{\\frac{55.5x^*}{2(1-x^*)}}}+C\\frac{55.5x^*}{2(1-x^*)}$ \n",
    "    \n",
    "OR\n",
    "    \n",
    "<span style=\"color: red;\"> <font size=\"5\"> $\\log_{10} \\gamma^* = \\frac{-A\\sqrt{\\frac{N-n_{ss}}{0.036N_s}}}{1+B\\sqrt{\\frac{N-n_{ss}}{0.036N_s}}}+C\\frac{N-n_{ss}}{0.036N_s}$ (the same as Aaron)\n",
    "    \n",
    "    \n",
    "<span style=\"color: black;\"> <font size=\"4\"> $\\log_{10}\\gamma^*$ is similar to Aaron but we need to express it as a function of $x^*$, insteand of $n_{ss}$. The reason is that it is the true equilibrium that we are trying to compute, not the finite-size steady-state mole fraction $x_{ss}$.     \n",
    "    "
   ]
  },
  {
   "cell_type": "code",
   "execution_count": null,
   "id": "7d42a763",
   "metadata": {},
   "outputs": [],
   "source": []
  },
  {
   "cell_type": "code",
   "execution_count": null,
   "id": "8dc8ce2b",
   "metadata": {},
   "outputs": [],
   "source": []
  },
  {
   "cell_type": "markdown",
   "id": "e447a271",
   "metadata": {},
   "source": [
    "<span style=\"color: black;\"> <font size=\"5\"> Now, go to the second term derived by Aaron (double check the expression for $\\log_{10} \\gamma^*$"
   ]
  },
  {
   "cell_type": "markdown",
   "id": "6db0c999",
   "metadata": {},
   "source": [
    "<span style=\"color: green;\"> <font size=\"5\"> $-nkT\\frac{d\\ln(\\gamma/\\gamma^*)}{dn}$"
   ]
  },
  {
   "cell_type": "markdown",
   "id": "7d6fa69f",
   "metadata": {},
   "source": [
    "<span style=\"color: green;\"> <font size=\"5\"> $\\frac{d\\ln(\\gamma/\\gamma^*)}{dn} = \\frac{\\ln(10)}{N_s} \\bigg[  \\frac{A}{2\\sqrt{\\frac{N-n}{0.036N_s}}\\big(1+B\\sqrt{\\frac{N-n}{0.036N_s}}\\big)^2}-C\\bigg]$ (the same as Aaron)\n",
    "    \n",
    "<span style=\"color: black;\"> <font size=\"4\"> However, if we do not use $n_{ss}$ but $x^*$\n",
    "    \n",
    "<span style=\"color: green;\"> <font size=\"5\"> $\\ln(\\gamma/\\gamma^*)/\\ln(10)=\\bigg(\\frac{-A\\sqrt{\\frac{N-n}{0.036N_s}}}{1+B\\sqrt{\\frac{N-n}{0.036N_s}}}+C\\frac{N-n}{0.036N_s} \\bigg) - \\bigg( \\frac{-A\\sqrt{\\frac{55.5x^*}{2(1-x^*)}}}{1+B\\sqrt{\\frac{55.5x^*}{2(1-x^*)}}}+C\\frac{55.5x^*}{2(1-x^*)} \\bigg)$\n",
    "    \n",
    "    \n",
    "<span style=\"color: black;\"> <font size=\"4\">  Then $d\\ln(\\gamma/\\gamma^*)/dn$, \n",
    "    \n",
    "    \n",
    "<span style=\"color: green;\"> <font size=\"5\"> $\\frac{d\\bigg( \\frac{-A\\sqrt{\\frac{55.5x^*}{2(1-x^*)}}}{1+B\\sqrt{\\frac{55.5x^*}{2(1-x^*)}}}+C\\frac{55.5x^*}{2(1-x^*)} \\bigg)}{dn} = 0$ (please confirm with Aaron or Matteo, my logic is that $x^*$ is a constant unknown that is not changing with $n$ indeed. \n",
    "    \n",
    "<span style=\"color: black;\"> <font size=\"4\">  So for the second term, we only need to compute, \n",
    "  \n",
    "<span style=\"color: green;\"> <font size=\"5\"> $d\\ln(\\gamma/\\gamma^*)/dn = \\ln(10) \\frac{d\\bigg(\\frac{-A\\sqrt{\\frac{N-n}{0.036N_s}}}{1+B\\sqrt{\\frac{N-n}{0.036N_s}}}+C\\frac{N-n}{0.036N_s} \\bigg)}{dn}$"
   ]
  },
  {
   "cell_type": "code",
   "execution_count": null,
   "id": "a2a1686f",
   "metadata": {},
   "outputs": [],
   "source": []
  },
  {
   "cell_type": "markdown",
   "id": "0f4f779c",
   "metadata": {},
   "source": [
    "<span style=\"color: black;\"> <font size=\"5\"> Now, go to the third term\n",
    "    \n",
    "<span style=\"color: black;\"> <font size=\"5\"> $+NkT\\frac{d\\ln(\\gamma/\\gamma_0)}{dn}$\n",
    "    \n",
    "<span style=\"color: black;\"> <font size=\"5\"> $\\ln(\\gamma/\\gamma_0) = \\ln(\\gamma) - \\ln(\\gamma_0) = \\ln(10) \\bigg( \\log_{10}(\\gamma) - \\log_{10}(\\gamma_0) \\bigg)$\n",
    "    \n",
    "<span style=\"color: black;\"> <font size=\"5\"> $x_0 = \\frac{N}{N_s+N}$ so $\\gamma_0$ is not changing with $n$, so \n",
    "    \n",
    "<span style=\"color: black;\"> <font size=\"5\"> $d\\ln(\\gamma/\\gamma_0)/dn = \\ln(10) \\frac{d\\bigg( \\log_{10}(\\gamma) - \\log_{10}(\\gamma_0) \\bigg)}{dn} = \\ln(10) \\frac{d\\bigg( \\log_{10}(\\gamma) \\bigg)}{dn}$\n",
    "    \n",
    "<span style=\"color: black;\"> <font size=\"4\"> from above,  \n",
    "    \n",
    "<span style=\"color: black;\"> <font size=\"5\"> $\\log_{10} \\gamma = \\frac{-A\\sqrt{\\frac{N-n}{0.036N_s}}}{1+B\\sqrt{\\frac{N-n}{0.036N_s}}}+C\\frac{N-n}{0.036N_s}$ (the same as Aaron), so \n",
    "    \n",
    "<span style=\"color: black;\"> <font size=\"5\"> $d\\ln(\\gamma/\\gamma_0)/dn = \\ln(10) \\frac{d\\bigg(\\frac{-A\\sqrt{\\frac{N-n}{0.036N_s}}}{1+B\\sqrt{\\frac{N-n}{0.036N_s}}}+C\\frac{N-n}{0.036N_s} \\bigg)}{dn}$"
   ]
  },
  {
   "cell_type": "code",
   "execution_count": null,
   "id": "45761aca",
   "metadata": {},
   "outputs": [],
   "source": []
  },
  {
   "cell_type": "markdown",
   "id": "ef9fb816",
   "metadata": {},
   "source": [
    "<span style=\"color: blue;\"> <font size=\"5\"> $d\\Delta F_{corr}/dn$ = \n",
    "<span style=\"color: red;\"> <font size=\"5\">  $-kT\\ln(\\gamma/\\gamma^*$)\n",
    "<span style=\"color: green;\"> <font size=\"5\"> $-nkT\\frac{d\\ln(\\gamma/\\gamma^*)}{dn}$\n",
    "<span style=\"color: black;\"> <font size=\"5\">  $+NkT\\frac{d\\ln(\\gamma/\\gamma_0)}{dn}$\n",
    "    \n",
    "    \n",
    "<span style=\"color: red;\"> <font size=\"5\">  $-kT\\ln(10) \\bigg[ \\bigg( \\frac{-A\\sqrt{\\frac{N-n}{0.036N_s}}}{1+B\\sqrt{\\frac{N-n}{0.036N_s}}}+C\\frac{N-n}{0.036N_s} \\bigg) - \\bigg( \\frac{-A\\sqrt{\\frac{55.5x^*}{2(1-x^*)}}}{1+B\\sqrt{\\frac{55.5x^*}{2(1-x^*)}}}+C\\frac{55.5x^*}{2(1-x^*)} \\bigg) \\bigg]$\n",
    "    \n",
    "<span style=\"color: green;\"> <font size=\"5\"> $-nkT \\bigg[\\ln(10) \\frac{d\\bigg(\\frac{-A\\sqrt{\\frac{N-n}{0.036N_s}}}{1+B\\sqrt{\\frac{N-n}{0.036N_s}}}+C\\frac{N-n}{0.036N_s} \\bigg)}{dn} \\bigg]$\n",
    "    \n",
    " <span style=\"color: black;\"> <font size=\"5\">  $+NkT \\bigg[ \\ln(10) \\frac{d\\bigg(\\frac{-A\\sqrt{\\frac{N-n}{0.036N_s}}}{1+B\\sqrt{\\frac{N-n}{0.036N_s}}}+C\\frac{N-n}{0.036N_s} \\bigg)}{dn} \\bigg]$"
   ]
  },
  {
   "cell_type": "code",
   "execution_count": null,
   "id": "467c2f85",
   "metadata": {},
   "outputs": [],
   "source": []
  },
  {
   "cell_type": "markdown",
   "id": "63b2a5a6",
   "metadata": {},
   "source": [
    "<span style=\"color: blue;\"> <font size=\"5\"> $d\\Delta F_{corr}/dn$ = \n",
    "<span style=\"color: red;\"> <font size=\"5\">  $-kT\\ln(\\gamma/\\gamma^*$)\n",
    "<span style=\"color: purple;\"> <font size=\"5\"> $-nkT\\frac{d\\ln(\\gamma/\\gamma^*)}{dn}$\n",
    "<span style=\"color: purple;\"> <font size=\"5\">  $+NkT\\frac{d\\ln(\\gamma/\\gamma_0)}{dn}$\n",
    "    \n",
    "    \n",
    "<span style=\"color: red;\"> <font size=\"5\">  $-kT\\ln(10) \\bigg[ \\bigg( \\frac{-A\\sqrt{\\frac{N-n}{0.036N_s}}}{1+B\\sqrt{\\frac{N-n}{0.036N_s}}}+C\\frac{N-n}{0.036N_s} \\bigg) - \\bigg( \\frac{-A\\sqrt{\\frac{55.5x^*}{2(1-x^*)}}}{1+B\\sqrt{\\frac{55.5x^*}{2(1-x^*)}}}+C\\frac{55.5x^*}{2(1-x^*)} \\bigg) \\bigg]$\n",
    "        \n",
    " <span style=\"color: purple;\"> <font size=\"5\">  $(+NkT-nkT) \\bigg[ \\ln(10) \\frac{d\\bigg(\\frac{-A\\sqrt{\\frac{N-n}{0.036N_s}}}{1+B\\sqrt{\\frac{N-n}{0.036N_s}}}+C\\frac{N-n}{0.036N_s} \\bigg)}{dn} \\bigg]$"
   ]
  },
  {
   "cell_type": "code",
   "execution_count": null,
   "id": "1a44993b",
   "metadata": {},
   "outputs": [],
   "source": []
  },
  {
   "cell_type": "code",
   "execution_count": null,
   "id": "336fb1e1",
   "metadata": {},
   "outputs": [],
   "source": []
  },
  {
   "cell_type": "markdown",
   "id": "000590b0",
   "metadata": {},
   "source": [
    "<span style=\"color: black;\"> <font size=\"5\"> The first option is, use the reference $x^* = 0.0625 $ from $m^* = 3.7$ mol/kg so the magenta term is now a constant "
   ]
  },
  {
   "cell_type": "markdown",
   "id": "f1ab05d9",
   "metadata": {},
   "source": [
    "<span style=\"color: blue;\"> <font size=\"5\"> $d\\Delta F_{corr}/dn$ =\n",
    " \n",
    "<span style=\"color: red;\"> <font size=\"5\">  $-kT\\ln(10) \\bigg[ \\bigg( \\frac{-A\\sqrt{\\frac{N-n}{0.036N_s}}}{1+B\\sqrt{\\frac{N-n}{0.036N_s}}}+C\\frac{N-n}{0.036N_s} \\bigg)$ <span style=\"color: magenta;\"> <font size=\"5\"> $- \\bigg( \\frac{-A\\sqrt{\\frac{55.5x^*}{2(1-x^*)}}}{1+B\\sqrt{\\frac{55.5x^*}{2(1-x^*)}}}+C\\frac{55.5x^*}{2(1-x^*)} \\bigg) \\bigg]$\n",
    "    \n",
    "<span style=\"color: purple;\"> <font size=\"5\">  $(+NkT-nkT)\\ln(10) \\bigg[ \\frac{d\\bigg(\\frac{-A\\sqrt{\\frac{N-n}{0.036N_s}}}{1+B\\sqrt{\\frac{N-n}{0.036N_s}}}+C\\frac{N-n}{0.036N_s} \\bigg)}{dn} \\bigg]$\n",
    "    \n",
    "    \n",
    "<span style=\"color: black;\"> <font size=\"5\"> Now for the purple term,   \n",
    "    \n",
    "<span style=\"color: purple;\"> <font size=\"5\">  $dK/dn= \\frac{d\\bigg(\\frac{-A\\sqrt{\\frac{N-n}{0.036N_s}}}{1+B\\sqrt{\\frac{N-n}{0.036N_s}}}+C\\frac{N-n}{0.036N_s} \\bigg)}{dn}$\n",
    "    \n",
    "<span style=\"color: black;\"> <font size=\"5\"> Now separate, \n",
    "    \n",
    "<span style=\"color: purple;\"> <font size=\"5\"> $U = \\sqrt{b_\\mathrm{NaCl}} = \\sqrt{\\frac{N-n}{0.036N_s}}$ \n",
    "    "
   ]
  },
  {
   "cell_type": "markdown",
   "id": "3815d187",
   "metadata": {},
   "source": [
    "<span style=\"color: purple;\"> <font size=\"5\"> $K = \\frac{-AU}{1+BU}+CU^2$ "
   ]
  },
  {
   "cell_type": "markdown",
   "id": "45532556",
   "metadata": {},
   "source": [
    "<span style=\"color: purple;\"> <font size=\"5\"> $dK/dn= \\frac{dK}{dU}\\frac{dU}{dn}$\n",
    "    \n",
    "    \n",
    "<span style=\"color: purple;\"> <font size=\"5\"> $dU/dn = \\sqrt{\\frac{1}{0.036N_s}}(-1)\\frac{1}{\\sqrt{N-n}}$ "
   ]
  },
  {
   "cell_type": "code",
   "execution_count": null,
   "id": "ce29a206",
   "metadata": {},
   "outputs": [],
   "source": []
  },
  {
   "cell_type": "markdown",
   "id": "b1526fb5",
   "metadata": {},
   "source": [
    "<span style=\"color: purple;\"> <font size=\"5\"> $dK/dU = 2CU + \\frac{(-A)}{1+BU}+\\frac{(-AU)(B)(-1)}{(1+BU)^2}$\n",
    "    \n",
    "<span style=\"color: purple;\"> <font size=\"5\"> $dK/dU = 2CU +\\frac{(-A)(1+BU)+(-AU)(B)(-1)}{(1+BU)^2}$\n",
    "\n",
    "<span style=\"color: purple;\"> <font size=\"5\"> $dK/dU = 2CU +\\frac{(-A)(1+BU)+(-AU)(B)(-1)}{(1+BU)^2}$\n",
    "    \n",
    "<span style=\"color: purple;\"> <font size=\"5\"> $dK/dU = 2CU +\\frac{-A}{(1+BU)^2}$\n",
    "    \n",
    "    "
   ]
  },
  {
   "cell_type": "markdown",
   "id": "45a7f27f",
   "metadata": {},
   "source": []
  },
  {
   "cell_type": "markdown",
   "id": "7e649b20",
   "metadata": {},
   "source": [
    "<span style=\"color: purple;\"> <font size=\"5\"> $dK/dn = \\bigg( 2CU +\\frac{-A}{(1+BU)^2} \\bigg) \\sqrt{\\frac{1}{0.036N_s}}(-1)\\frac{1}{\\sqrt{N-n}}$\n",
    "    \n",
    "    \n",
    "<span style=\"color: purple;\"> <font size=\"5\"> $dK/dn = -\\bigg( 2C\\sqrt{\\frac{N-n}{0.036N_s}}-\\frac{A}{\\big(1+B\\sqrt{\\frac{N-n}{0.036N_s}}\\big)^2} \\bigg)\\frac{1}{\\sqrt{0.036N_s(N-n)}}$"
   ]
  },
  {
   "cell_type": "code",
   "execution_count": null,
   "id": "998d6242",
   "metadata": {},
   "outputs": [],
   "source": []
  },
  {
   "cell_type": "markdown",
   "id": "b3535766",
   "metadata": {},
   "source": [
    "<span style=\"color: blue;\"> <font size=\"5\"> $d\\beta\\Delta F_{corr}/dn$ =\n",
    " \n",
    "<span style=\"color: red;\"> <font size=\"5\">  $-\\ln(10) \\bigg[ \\bigg( \\frac{-A\\sqrt{\\frac{N-n}{0.036N_s}}}{1+B\\sqrt{\\frac{N-n}{0.036N_s}}}+C\\frac{N-n}{0.036N_s} \\bigg)$ <span style=\"color: magenta;\"> <font size=\"5\"> $- \\bigg( \\frac{-A\\sqrt{\\frac{55.5x^*}{2(1-x^*)}}}{1+B\\sqrt{\\frac{55.5x^*}{2(1-x^*)}}}+C\\frac{55.5x^*}{2(1-x^*)} \\bigg) \\bigg]$\n",
    "    \n",
    "<span style=\"color: purple;\"> <font size=\"5\">  $(N-n)\\ln(10) \\bigg[ -\\bigg( 2C\\sqrt{\\frac{N-n}{0.036N_s}}-\\frac{A}{\\big(1+B\\sqrt{\\frac{N-n}{0.036N_s}}\\big)^2} \\bigg)\\frac{1}{\\sqrt{0.036N_s(N-n)}} \\bigg]$"
   ]
  },
  {
   "cell_type": "code",
   "execution_count": null,
   "id": "79cd6e4d",
   "metadata": {},
   "outputs": [],
   "source": []
  },
  {
   "cell_type": "markdown",
   "id": "751ca4c3",
   "metadata": {},
   "source": [
    "<span style=\"color: darkred;\"> <font size=\"5\"> Original min EQ\n",
    "\n",
    "<span style=\"color: darkred;\"> <font size=\"5\">  $\\min_{x^*,\\sigma^{\\prime}}\\sum_{i=1}^{M}-\\ln{\\frac{x(n_{ss,i})}{x^*}}+\\frac{2}{3}\\beta\\sigma^{\\prime}n_{ss,i}^{-1/3}$\n",
    "    \n",
    "<span style=\"color: darkred;\"> <font size=\"5\"> Corrected min EQ\n",
    "  \n",
    "<span style=\"color: darkred;\"> <font size=\"5\">  $\\min_{x^*,\\sigma^{\\prime}}\\sum_{i=1}^{M}-\\ln{\\frac{x(n_{ss,i})}{x^*}}+\\frac{2}{3}\\beta\\sigma^{\\prime}n_{ss,i}^{-1/3}$ + <span style=\"color: blue;\"> <font size=\"5\"> $d\\beta\\Delta F_{corr}(n_{ss})/dn$\n"
   ]
  },
  {
   "cell_type": "code",
   "execution_count": null,
   "id": "4030d393",
   "metadata": {},
   "outputs": [],
   "source": []
  },
  {
   "cell_type": "code",
   "execution_count": 3,
   "id": "a82855aa",
   "metadata": {
    "scrolled": true
   },
   "outputs": [
    {
     "data": {
      "text/plain": [
       "1.0"
      ]
     },
     "execution_count": 3,
     "metadata": {},
     "output_type": "execute_result"
    }
   ],
   "source": [
    "np.log10(10)"
   ]
  },
  {
   "cell_type": "code",
   "execution_count": 4,
   "id": "76162376",
   "metadata": {
    "scrolled": true
   },
   "outputs": [
    {
     "data": {
      "text/plain": [
       "2.302585092994046"
      ]
     },
     "execution_count": 4,
     "metadata": {},
     "output_type": "execute_result"
    }
   ],
   "source": [
    "np.log(10)"
   ]
  },
  {
   "cell_type": "code",
   "execution_count": null,
   "id": "1a6f79a3",
   "metadata": {},
   "outputs": [],
   "source": []
  },
  {
   "cell_type": "code",
   "execution_count": 7,
   "id": "016cd73e",
   "metadata": {},
   "outputs": [
    {
     "data": {
      "image/png": "[encoded data removed]",
      "text/plain": [
       "<IPython.core.display.Image object>"
      ]
     },
     "execution_count": 7,
     "metadata": {
      "image/png": {
       "height": 200,
       "width": 300
      }
     },
     "output_type": "execute_result"
    }
   ],
   "source": [
    "Image(filename='brine.png',width = 300, height =200) #from NaCl paper brine"
   ]
  },
  {
   "cell_type": "code",
   "execution_count": null,
   "id": "b4266a64",
   "metadata": {},
   "outputs": [],
   "source": []
  },
  {
   "cell_type": "code",
   "execution_count": null,
   "id": "6aabf29d",
   "metadata": {},
   "outputs": [],
   "source": []
  },
  {
   "cell_type": "code",
   "execution_count": null,
   "id": "2809145c",
   "metadata": {},
   "outputs": [],
   "source": []
  }
 ],
 "metadata": {
  "kernelspec": {
   "display_name": "Python 3 (ipykernel)",
   "language": "python",
   "name": "python3"
  },
  "language_info": {
   "codemirror_mode": {
    "name": "ipython",
    "version": 3
   },
   "file_extension": ".py",
   "mimetype": "text/x-python",
   "name": "python",
   "nbconvert_exporter": "python",
   "pygments_lexer": "ipython3",
   "version": "3.9.7"
  }
 },
 "nbformat": 4,
 "nbformat_minor": 5
}
